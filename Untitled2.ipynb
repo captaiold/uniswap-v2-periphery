{
  "nbformat": 4,
  "nbformat_minor": 0,
  "metadata": {
    "colab": {
      "name": "Untitled2.ipynb",
      "provenance": [],
      "authorship_tag": "ABX9TyOvxLY6PBiaZTxG3IsvEub0",
      "include_colab_link": true
    },
    "kernelspec": {
      "name": "python3",
      "display_name": "Python 3"
    },
    "language_info": {
      "name": "python"
    }
  },
  "cells": [
    {
      "cell_type": "markdown",
      "metadata": {
        "id": "view-in-github",
        "colab_type": "text"
      },
      "source": [
        "<a href=\"https://colab.research.google.com/github/captaiold/uniswap-v2-periphery/blob/master/Untitled2.ipynb\" target=\"_parent\"><img src=\"https://colab.research.google.com/assets/colab-badge.svg\" alt=\"Open In Colab\"/></a>"
      ]
    },
    {
      "cell_type": "code",
      "metadata": {
        "id": "igKKCKoaE44U"
      },
      "source": [
        "import requests\n",
        "import pandas as pd"
      ],
      "execution_count": 4,
      "outputs": []
    },
    {
      "cell_type": "code",
      "metadata": {
        "id": "Yq1_P_AZE_9q"
      },
      "source": [
        "def get_historic_price(symbol, exchange='bitfinex', after='2021-09-01'):\n",
        "  url = 'https://api.cryptowat.ch/markets/{exchange}/{symbol}usd/ohlc'.format(\n",
        "      symbol=symbol, exchange=exchange)\n",
        "  resp = request.get(url, params={\n",
        "      'periods': '3600',\n",
        "      'after': str(int(pd.Timestamp(after).timestamp()))\n",
        "  })\n",
        "  resp.raise_for_status()\n",
        "  data = resp.json()\n",
        "  df = pd.DataFrame(data['result']['3600'], columns=[\n",
        "      'CloseTime', 'OpenPrice', 'HighPrice', 'LowPrice', 'ClosePrice', 'Volume', 'NA'                        \n",
        "  ])\n",
        "  df['CloseTime'] = pd.to_datetime(df['CloseTime'], unit='s')\n",
        "  df.set_index('CloseTime', inplace=True)\n",
        "  return df"
      ],
      "execution_count": 5,
      "outputs": []
    },
    {
      "cell_type": "code",
      "metadata": {
        "id": "ztTFc4MSZ7Kb"
      },
      "source": [
        "last_week = (pd.Timestamp.now() - pd.ofsets.Day(7))\n",
        "last_week"
      ],
      "execution_count": null,
      "outputs": []
    }
  ]
}